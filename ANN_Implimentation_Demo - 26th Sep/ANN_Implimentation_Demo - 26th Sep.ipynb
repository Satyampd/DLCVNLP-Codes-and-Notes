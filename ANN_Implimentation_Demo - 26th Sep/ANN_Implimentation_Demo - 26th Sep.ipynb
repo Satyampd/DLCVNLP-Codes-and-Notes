{
  "cells": [
    {
      "cell_type": "code",
      "execution_count": 1,
      "metadata": {
        "colab": {
          "base_uri": "https://localhost:8080/",
          "height": 36
        },
        "id": "XqhnaAncBm3Y",
        "outputId": "376d4295-9af0-4930-b2e9-7fa1a69127c6"
      },
      "outputs": [
        {
          "data": {
            "application/vnd.google.colaboratory.intrinsic+json": {
              "type": "string"
            },
            "text/plain": [
              "'2.8.0'"
            ]
          },
          "execution_count": 1,
          "metadata": {},
          "output_type": "execute_result"
        }
      ],
      "source": [
        "import tensorflow as tf\n",
        "from tensorflow import keras\n",
        "tf.__version__\n",
        "\n"
      ]
    },
    {
      "cell_type": "code",
      "execution_count": 2,
      "metadata": {
        "id": "HVfCcR6HCUsu"
      },
      "outputs": [],
      "source": [
        "import numpy as np\n",
        "import pandas as pd\n",
        "import matplotlib.pyplot as plt\n",
        "import seaborn as sns"
      ]
    },
    {
      "cell_type": "code",
      "execution_count": 3,
      "metadata": {
        "colab": {
          "base_uri": "https://localhost:8080/"
        },
        "id": "mTepy9G6CZej",
        "outputId": "6f7548ea-f483-44f3-d844-17f478f04fd6"
      },
      "outputs": [
        {
          "name": "stdout",
          "output_type": "stream",
          "text": [
            "Downloading data from https://storage.googleapis.com/tensorflow/tf-keras-datasets/mnist.npz\n",
            "11493376/11490434 [==============================] - 0s 0us/step\n",
            "11501568/11490434 [==============================] - 0s 0us/step\n"
          ]
        }
      ],
      "source": [
        "# loading the MNIST dataset\n",
        "\n",
        "mnist = tf.keras.datasets.mnist\n",
        "(X_train, y_train), (X_test, y_test)=mnist.load_data()"
      ]
    },
    {
      "cell_type": "code",
      "execution_count": 4,
      "metadata": {
        "colab": {
          "base_uri": "https://localhost:8080/",
          "height": 446
        },
        "id": "vc1OR4-2CwOX",
        "outputId": "fb3bec18-aa9c-4c0d-ad4e-47fe02f2c7a0"
      },
      "outputs": [
        {
          "data": {
            "text/plain": [
              "<matplotlib.image.AxesImage at 0x7fbe94814650>"
            ]
          },
          "execution_count": 4,
          "metadata": {},
          "output_type": "execute_result"
        },
        {
          "data": {
            "image/png": "[encoded data removed]",
            "text/plain": [
              "<Figure size 504x504 with 1 Axes>"
            ]
          },
          "metadata": {
            "needs_background": "light"
          },
          "output_type": "display_data"
        }
      ],
      "source": [
        "plt.figure(figsize = (7,7))\n",
        "plt.imshow(X_train[0], cmap = 'binary')"
      ]
    },
    {
      "cell_type": "code",
      "execution_count": 5,
      "metadata": {
        "id": "gYXa5tvaDH46"
      },
      "outputs": [],
      "source": [
        "# Normalizing the data and dividing the training data into train and validation set/\n",
        "X_valid, X_train = X_train[:5000]/255, X_train[5000:]/255\n",
        "X_test = X_test/255\n",
        "\n",
        "y_valid, y_train = y_train[:5000], y_train[5000:]"
      ]
    },
    {
      "cell_type": "code",
      "execution_count": 6,
      "metadata": {
        "id": "iu0u7LA3EGj6"
      },
      "outputs": [],
      "source": [
        "# in this cell we are defining the layers architecture for our model\n",
        "\n",
        "LAYERS = [\n",
        "          keras.layers.Flatten(input_shape = [28,28], name = 'inputLayer'),\n",
        "          keras.layers.Dense(300, activation = 'relu'),\n",
        "          keras.layers.Dense(100, activation = 'relu'),\n",
        "          keras.layers.Dense(10, activation = 'softmax')\n",
        "]"
      ]
    },
    {
      "cell_type": "code",
      "execution_count": 7,
      "metadata": {
        "colab": {
          "base_uri": "https://localhost:8080/"
        },
        "id": "jacQ2mjU3RyL",
        "outputId": "c0237521-3d85-44fe-ad1c-3793a9fa4ada"
      },
      "outputs": [
        {
          "data": {
            "text/plain": [
              "[<keras.layers.core.flatten.Flatten at 0x7fbe94cb6ed0>,\n",
              " <keras.layers.core.dense.Dense at 0x7fbe954c9e10>,\n",
              " <keras.layers.core.dense.Dense at 0x7fbf0d7af550>,\n",
              " <keras.layers.core.dense.Dense at 0x7fbe942d14d0>]"
            ]
          },
          "execution_count": 7,
          "metadata": {},
          "output_type": "execute_result"
        }
      ],
      "source": [
        "model_classifier = keras.models.Sequential(LAYERS)\n",
        "model_classifier.layers"
      ]
    },
    {
      "cell_type": "code",
      "execution_count": 8,
      "metadata": {
        "colab": {
          "base_uri": "https://localhost:8080/"
        },
        "id": "tXMG9YoT3iZ7",
        "outputId": "3c4b5cf7-fc9c-458e-9016-0700ea38c3b4"
      },
      "outputs": [
        {
          "name": "stdout",
          "output_type": "stream",
          "text": [
            "Model: \"sequential\"\n",
            "_________________________________________________________________\n",
            " Layer (type)                Output Shape              Param #   \n",
            "=================================================================\n",
            " inputLayer (Flatten)        (None, 784)               0         \n",
            "                                                                 \n",
            " dense (Dense)               (None, 300)               235500    \n",
            "                                                                 \n",
            " dense_1 (Dense)             (None, 100)               30100     \n",
            "                                                                 \n",
            " dense_2 (Dense)             (None, 10)                1010      \n",
            "                                                                 \n",
            "=================================================================\n",
            "Total params: 266,610\n",
            "Trainable params: 266,610\n",
            "Non-trainable params: 0\n",
            "_________________________________________________________________\n"
          ]
        }
      ],
      "source": [
        "model_classifier.summary()"
      ]
    },
    {
      "cell_type": "code",
      "execution_count": 9,
      "metadata": {
        "colab": {
          "base_uri": "https://localhost:8080/"
        },
        "id": "yYmM-tiO3q_4",
        "outputId": "83b57849-9d23-4e23-9ada-aa0c5b324fba"
      },
      "outputs": [
        {
          "data": {
            "text/plain": [
              "(784, 300)"
            ]
          },
          "execution_count": 9,
          "metadata": {},
          "output_type": "execute_result"
        }
      ],
      "source": [
        "weights, biases = model_classifier.layers[1].get_weights()\n",
        "weights.shape"
      ]
    },
    {
      "cell_type": "markdown",
      "metadata": {
        "id": "0xjMKMuI7cku"
      },
      "source": [
        "### If you imagine above cell output, it is from every input is connected to 300 other neurons, so there are 784 inputs and then they go into 300 neurons of next layer, that is how we get this (784,300) shape."
      ]
    },
    {
      "cell_type": "code",
      "execution_count": 10,
      "metadata": {
        "id": "Hc_MVzUf6LIY"
      },
      "outputs": [],
      "source": [
        "LOSS_FUNCTION = \"sparse_categorical_crossentropy\"\n",
        "OPTIMIZER = \"SGD\"\n",
        "METRICS = [\"ACCURACY\"]\n",
        "EPOCHS = 10\n",
        "VALIDATION = (X_valid, y_valid)"
      ]
    },
    {
      "cell_type": "code",
      "execution_count": 11,
      "metadata": {
        "id": "VXffD0zt7d73"
      },
      "outputs": [],
      "source": [
        "model_classifier.compile(loss= LOSS_FUNCTION, optimizer = OPTIMIZER, metrics = METRICS)"
      ]
    },
    {
      "cell_type": "code",
      "execution_count": 12,
      "metadata": {
        "colab": {
          "base_uri": "https://localhost:8080/"
        },
        "id": "VLw8cLxd8dLh",
        "outputId": "6a935f00-e5d8-4e7c-acb8-aca29332d085"
      },
      "outputs": [
        {
          "name": "stdout",
          "output_type": "stream",
          "text": [
            "Epoch 1/10\n",
            "1719/1719 [==============================] - 7s 3ms/step - loss: 0.6085 - ACCURACY: 0.8437 - val_loss: 0.3055 - val_ACCURACY: 0.9146\n",
            "Epoch 2/10\n",
            "1719/1719 [==============================] - 5s 3ms/step - loss: 0.2873 - ACCURACY: 0.9168 - val_loss: 0.2358 - val_ACCURACY: 0.9332\n",
            "Epoch 3/10\n",
            "1719/1719 [==============================] - 5s 3ms/step - loss: 0.2351 - ACCURACY: 0.9331 - val_loss: 0.2072 - val_ACCURACY: 0.9452\n",
            "Epoch 4/10\n",
            "1719/1719 [==============================] - 5s 3ms/step - loss: 0.2014 - ACCURACY: 0.9427 - val_loss: 0.1782 - val_ACCURACY: 0.9512\n",
            "Epoch 5/10\n",
            "1719/1719 [==============================] - 7s 4ms/step - loss: 0.1759 - ACCURACY: 0.9491 - val_loss: 0.1586 - val_ACCURACY: 0.9586\n",
            "Epoch 6/10\n",
            "1719/1719 [==============================] - 5s 3ms/step - loss: 0.1562 - ACCURACY: 0.9557 - val_loss: 0.1433 - val_ACCURACY: 0.9614\n",
            "Epoch 7/10\n",
            "1719/1719 [==============================] - 5s 3ms/step - loss: 0.1396 - ACCURACY: 0.9603 - val_loss: 0.1346 - val_ACCURACY: 0.9634\n",
            "Epoch 8/10\n",
            "1719/1719 [==============================] - 5s 3ms/step - loss: 0.1264 - ACCURACY: 0.9645 - val_loss: 0.1235 - val_ACCURACY: 0.9676\n",
            "Epoch 9/10\n",
            "1719/1719 [==============================] - 5s 3ms/step - loss: 0.1148 - ACCURACY: 0.9673 - val_loss: 0.1178 - val_ACCURACY: 0.9680\n",
            "Epoch 10/10\n",
            "1719/1719 [==============================] - 5s 3ms/step - loss: 0.1048 - ACCURACY: 0.9701 - val_loss: 0.1081 - val_ACCURACY: 0.9704\n"
          ]
        },
        {
          "data": {
            "text/plain": [
              "<keras.callbacks.History at 0x7fbe801d9910>"
            ]
          },
          "execution_count": 12,
          "metadata": {},
          "output_type": "execute_result"
        }
      ],
      "source": [
        "model_classifier.fit(X_train, y_train, epochs = EPOCHS, validation_data= VALIDATION, batch_size = 32)"
      ]
    },
    {
      "cell_type": "markdown",
      "metadata": {
        "id": "l7r9qWvgS492"
      },
      "source": [
        "##  1719 is number of iterations and in every epoch model will see all 55000 points but in 1719 forward and backward passes.\n",
        "\n",
        "1719 as if we divide 55000/32(which is batch size 32)."
      ]
    },
    {
      "cell_type": "code",
      "execution_count": 16,
      "metadata": {
        "colab": {
          "base_uri": "https://localhost:8080/",
          "height": 284
        },
        "id": "b_Qgb2ds83Zx",
        "outputId": "e03559a5-4d4f-4214-f7a0-a221d1e3b7d0"
      },
      "outputs": [
        {
          "data": {
            "text/plain": [
              "<matplotlib.axes._subplots.AxesSubplot at 0x7fbe80237890>"
            ]
          },
          "execution_count": 16,
          "metadata": {},
          "output_type": "execute_result"
        },
        {
          "data": {
            "image/png": "[encoded data removed]",
            "text/plain": [
              "<Figure size 432x288 with 1 Axes>"
            ]
          },
          "metadata": {
            "needs_background": "light"
          },
          "output_type": "display_data"
        }
      ],
      "source": [
        "pd.DataFrame(model_classifier.history.history).plot()"
      ]
    },
    {
      "cell_type": "code",
      "execution_count": 17,
      "metadata": {
        "colab": {
          "base_uri": "https://localhost:8080/"
        },
        "id": "KwSLdzZz-_iN",
        "outputId": "94707586-a780-4972-ee27-c6999b63dc2b"
      },
      "outputs": [
        {
          "name": "stdout",
          "output_type": "stream",
          "text": [
            "313/313 [==============================] - 1s 2ms/step - loss: 0.1102 - ACCURACY: 0.9662\n"
          ]
        },
        {
          "data": {
            "text/plain": [
              "[0.11023960262537003, 0.9661999940872192]"
            ]
          },
          "execution_count": 17,
          "metadata": {},
          "output_type": "execute_result"
        }
      ],
      "source": [
        "# it will print loss and accuracy score\n",
        "model_classifier.evaluate(X_test, y_test)"
      ]
    },
    {
      "cell_type": "code",
      "execution_count": 18,
      "metadata": {
        "colab": {
          "base_uri": "https://localhost:8080/"
        },
        "id": "uF958D28TrjT",
        "outputId": "c1d24fe4-b67a-4f37-9974-497683d36bc7"
      },
      "outputs": [
        {
          "data": {
            "text/plain": [
              "array([[2.5915368e-05, 1.4917508e-07, 7.1292248e-04, 2.5479812e-03,\n",
              "        2.6192834e-07, 2.5720534e-05, 3.4468821e-09, 9.9635810e-01,\n",
              "        1.0916434e-05, 3.1799095e-04],\n",
              "       [6.3325300e-05, 4.6599333e-05, 9.9641138e-01, 2.3916438e-03,\n",
              "        5.4475358e-09, 5.7802099e-04, 2.9602449e-04, 1.8423677e-08,\n",
              "        2.1293416e-04, 1.0099824e-09],\n",
              "       [3.2567208e-05, 9.9130636e-01, 1.8123626e-03, 4.8420808e-04,\n",
              "        4.1601574e-04, 5.9029355e-04, 1.0098969e-03, 2.4852145e-03,\n",
              "        1.5769928e-03, 2.8598847e-04],\n",
              "       [9.9942797e-01, 9.9238100e-08, 1.5709852e-04, 1.6872504e-05,\n",
              "        1.4110800e-06, 4.6112680e-05, 1.3557627e-04, 1.3111861e-04,\n",
              "        2.5049674e-06, 8.1288796e-05],\n",
              "       [1.6712547e-04, 7.4988384e-07, 1.4991821e-04, 6.3011015e-05,\n",
              "        9.7274858e-01, 3.1651452e-04, 2.1022730e-04, 9.6058985e-04,\n",
              "        9.6676384e-05, 2.5286593e-02]], dtype=float32)"
            ]
          },
          "execution_count": 18,
          "metadata": {},
          "output_type": "execute_result"
        }
      ],
      "source": [
        "model_classifier.predict(X_test[:5])"
      ]
    },
    {
      "cell_type": "code",
      "execution_count": 21,
      "metadata": {
        "colab": {
          "base_uri": "https://localhost:8080/"
        },
        "id": "8JMJ5mjAU9my",
        "outputId": "da791439-94cd-4c34-d880-695b9b468afa"
      },
      "outputs": [
        {
          "data": {
            "text/plain": [
              "array([[0.   , 0.   , 0.001, 0.003, 0.   , 0.   , 0.   , 0.996, 0.   ,\n",
              "        0.   ],\n",
              "       [0.   , 0.   , 0.996, 0.002, 0.   , 0.001, 0.   , 0.   , 0.   ,\n",
              "        0.   ],\n",
              "       [0.   , 0.991, 0.002, 0.   , 0.   , 0.001, 0.001, 0.002, 0.002,\n",
              "        0.   ],\n",
              "       [0.999, 0.   , 0.   , 0.   , 0.   , 0.   , 0.   , 0.   , 0.   ,\n",
              "        0.   ],\n",
              "       [0.   , 0.   , 0.   , 0.   , 0.973, 0.   , 0.   , 0.001, 0.   ,\n",
              "        0.025]], dtype=float32)"
            ]
          },
          "execution_count": 21,
          "metadata": {},
          "output_type": "execute_result"
        }
      ],
      "source": [
        "model_classifier.predict(X_test[:5]).round(3)"
      ]
    },
    {
      "cell_type": "code",
      "execution_count": 24,
      "metadata": {
        "colab": {
          "base_uri": "https://localhost:8080/"
        },
        "id": "QCodo5IZVA6u",
        "outputId": "042bde69-ebc3-4096-aed3-fbe3fa02080e"
      },
      "outputs": [
        {
          "data": {
            "text/plain": [
              "array([7, 2, 1, 0, 4])"
            ]
          },
          "execution_count": 24,
          "metadata": {},
          "output_type": "execute_result"
        }
      ],
      "source": [
        "np.argmax(model_classifier.predict(X_test[:5]), axis = 1)"
      ]
    },
    {
      "cell_type": "code",
      "execution_count": 25,
      "metadata": {
        "colab": {
          "base_uri": "https://localhost:8080/"
        },
        "id": "GMa00KqJVPtY",
        "outputId": "1d2b7acf-2a34-4776-b581-ca64a4a4d462"
      },
      "outputs": [
        {
          "data": {
            "text/plain": [
              "array([7, 2, 1, 0, 4], dtype=uint8)"
            ]
          },
          "execution_count": 25,
          "metadata": {},
          "output_type": "execute_result"
        }
      ],
      "source": [
        "y_test[:5]"
      ]
    },
    {
      "cell_type": "code",
      "execution_count": null,
      "metadata": {
        "id": "w2vpWm1PVfoD"
      },
      "outputs": [],
      "source": []
    }
  ],
  "metadata": {
    "accelerator": "GPU",
    "colab": {
      "collapsed_sections": [],
      "name": "ANN_Implimentation_Demo.ipynb",
      "provenance": []
    },
    "kernelspec": {
      "display_name": "Python 3",
      "name": "python3"
    },
    "language_info": {
      "name": "python"
    }
  },
  "nbformat": 4,
  "nbformat_minor": 0
}
